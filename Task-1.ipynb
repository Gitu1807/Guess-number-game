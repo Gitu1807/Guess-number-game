{
 "cells": [
  {
   "cell_type": "raw",
   "id": "e675aa3c",
   "metadata": {},
   "source": [
    "Build a number guessing game where the computer randomly generates a number, and the user needs to guess it within a limited number of attempts."
   ]
  },
  {
   "cell_type": "code",
   "execution_count": 11,
   "id": "0cc1f6ca",
   "metadata": {},
   "outputs": [
    {
     "name": "stdout",
     "output_type": "stream",
     "text": [
      "Welcome to the Number Guessing Game!\n",
      "I'm thinking of a number between 1 and 100.\n",
      "Attempt 1/10: Enter your guess: 25\n",
      "Too low. Try again.\n",
      "Attempt 2/10: Enter your guess: 35\n",
      "Too low. Try again.\n",
      "Attempt 3/10: Enter your guess: 65\n",
      "Too high. Try again.\n",
      "Attempt 4/10: Enter your guess: 26\n",
      "Too low. Try again.\n",
      "Attempt 5/10: Enter your guess: 45\n",
      "Too low. Try again.\n",
      "Attempt 6/10: Enter your guess: 49\n",
      "Too low. Try again.\n",
      "Attempt 7/10: Enter your guess: 95\n",
      "Too high. Try again.\n",
      "Attempt 8/10: Enter your guess: 89\n",
      "Too high. Try again.\n",
      "Attempt 9/10: Enter your guess: 24\n",
      "Too low. Try again.\n",
      "Attempt 10/10: Enter your guess: 12\n",
      "Too low. Try again.\n",
      "Sorry, you've reached the maximum number of attempts. The secret number was 60.\n"
     ]
    }
   ],
   "source": [
    "import random\n",
    "\n",
    "def guess_the_number():\n",
    "    # Set the range for the random number\n",
    "    min_number = 1\n",
    "    max_number = 100\n",
    "    secret_number = random.randint(min_number, max_number)\n",
    "    \n",
    "    # Set the number of attempts allowed\n",
    "    max_attempts = 10\n",
    "    attempts = 0\n",
    "    \n",
    "    print(\"Welcome to the Number Guessing Game!\")\n",
    "    print(f\"I'm thinking of a number between {min_number} and {max_number}.\")\n",
    "    \n",
    "    while attempts < max_attempts:\n",
    "        try:\n",
    "            guess = int(input(f\"Attempt {attempts + 1}/{max_attempts}: Enter your guess: \"))\n",
    "        except ValueError:\n",
    "            print(\"Please enter a valid number.\")\n",
    "            continue\n",
    "        \n",
    "        if guess < min_number or guess > max_number:\n",
    "            print(f\"Please guess a number between {min_number} and {max_number}.\")\n",
    "        else:\n",
    "            attempts += 1\n",
    "            if guess < secret_number:\n",
    "                print(\"Too low. Try again.\")\n",
    "            elif guess > secret_number:\n",
    "                print(\"Too high. Try again.\")\n",
    "            else:\n",
    "                print(f\"Congratulations! You guessed the number {secret_number} in {attempts} attempts.\")\n",
    "                break\n",
    "    \n",
    "    if attempts >= max_attempts:\n",
    "        print(f\"Sorry, you've reached the maximum number of attempts. The secret number was {secret_number}.\")\n",
    "\n",
    "if __name__ == \"__main__\":\n",
    "    guess_the_number()"
   ]
  }
 ],
 "metadata": {
  "kernelspec": {
   "display_name": "Python 3 (ipykernel)",
   "language": "python",
   "name": "python3"
  },
  "language_info": {
   "codemirror_mode": {
    "name": "ipython",
    "version": 3
   },
   "file_extension": ".py",
   "mimetype": "text/x-python",
   "name": "python",
   "nbconvert_exporter": "python",
   "pygments_lexer": "ipython3",
   "version": "3.11.4"
  }
 },
 "nbformat": 4,
 "nbformat_minor": 5
}
